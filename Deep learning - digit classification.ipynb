{
  "metadata" : {
    "kernelspec" : {
      "display_name" : "Python 2",
      "language" : "python",
      "name" : "python2"
    },
    "language_info" : {
      "file_extension" : ".py",
      "mimetype" : "text/x-python",
      "name" : "python"
    }
  },
  "nbformat" : 4,
  "nbformat_minor" : 2,
  "cells" : [ {
    "cell_type" : "code",
    "execution_count" : 0,
    "outputs" : [ ],
    "metadata" : { },
    "source" : [ "from sklearn.datasets import load_digits\nimport matplotlib.pyplot as plt\nplt.gray()\n\ndigit_images  = load_digits()\n\nfor i in range(10):\n    plt.matshow(digit_images.data[i].reshape(8,8))" ]
  }, {
    "cell_type" : "code",
    "execution_count" : 0,
    "outputs" : [ ],
    "metadata" : { },
    "source" : [ "# Normalize to [0,1]\nnor_images = digit_images.images.astype('float32')/16\n\n# reshape input\nimport numpy as np\nflat_in = np.reshape(nor_images, (len(nor_images), 64))\n\n# reshape output\nonehot = [[0 if i !=j else 1 for j in range(10)] for i in digit_images.target]\n\nprint(flat_in.shape)\nprint(nor_images.shape)\nprint(digit_images.images.shape)\nprint(digit_images.data.shape)" ]
  }, {
    "cell_type" : "code",
    "execution_count" : 0,
    "outputs" : [ ],
    "metadata" : { },
    "source" : [ "from keras.models import Sequential\nfrom keras.layers import Dense, Activation\n\n#Input image shape is 8x8\nmodel = Sequential([\n    Dense(units = 5, input_dim=64, activation='relu'),\n    Dense(units = 10, input_dim=5, activation='softmax')\n])\n\nmodel.summary()" ]
  }, {
    "cell_type" : "code",
    "execution_count" : 0,
    "outputs" : [ ],
    "metadata" : { },
    "source" : [ "#Input image shape is 8x8\nprint(nor_images.shape)\nprint(digit_images.target.shape)" ]
  }, {
    "cell_type" : "code",
    "execution_count" : 0,
    "outputs" : [ ],
    "metadata" : { },
    "source" : [ "model.compile(loss='categorical_crossentropy', optimizer='rmsprop', metrics=['accuracy'])" ]
  }, {
    "cell_type" : "code",
    "execution_count" : 0,
    "outputs" : [ ],
    "metadata" : { },
    "source" : [ "from keras.callbacks import ModelCheckpoint   \n\n# train the model\ncheckpointer = ModelCheckpoint(filepath='/tmp/model_weights_num_classifier', verbose=1, save_best_only=True)\n\nhist = model.fit(x=flat_in, y=np.array(onehot), epochs=10, batch_size=3, validation_data=(flat_in, np.array(onehot)), callbacks=[checkpointer])" ]
  }, {
    "cell_type" : "code",
    "execution_count" : 0,
    "outputs" : [ ],
    "metadata" : { },
    "source" : [ "model.load_weights(filepath='/tmp/model_weights_num_classifier')" ]
  }, {
    "cell_type" : "code",
    "execution_count" : 0,
    "outputs" : [ ],
    "metadata" : { },
    "source" : [ "y_pred = model.predict(flat_in)\n\nprint(y_pred[1])\nprint(np.array(onehot)[1])\nfrom sklearn.metrics import accuracy_score\n\n#accuracy_score(np.array(onehot), y_pred)" ]
  }, {
    "cell_type" : "code",
    "execution_count" : 0,
    "outputs" : [ ],
    "metadata" : { },
    "source" : [ "!ls /tmp" ]
  }, {
    "cell_type" : "code",
    "execution_count" : 0,
    "outputs" : [ ],
    "metadata" : { },
    "source" : [ "!ls /tmp" ]
  } ]
}