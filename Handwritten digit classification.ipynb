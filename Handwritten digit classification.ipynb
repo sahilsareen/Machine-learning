{
  "metadata" : {
    "kernelspec" : {
      "display_name" : "Python 2",
      "language" : "python",
      "name" : "python2"
    },
    "language_info" : {
      "file_extension" : ".py",
      "mimetype" : "text/x-python",
      "name" : "python"
    }
  },
  "nbformat" : 4,
  "nbformat_minor" : 2,
  "cells" : [ {
    "cell_type" : "markdown",
    "metadata" : { },
    "source" : [ "[Handwritten digits dataset](http://scikit-learn.org/stable/datasets/index.html#optical-recognition-of-handwritten-digits-data-set) classification" ]
  }, {
    "cell_type" : "code",
    "execution_count" : 0,
    "outputs" : [ ],
    "metadata" : { },
    "source" : [ "from sklearn.datasets import load_digits\ndigit_images = load_digits()\nprint(digit_images.data.shape)\n\nimport matplotlib.pyplot as plt \nplt.gray()\n\nfor i in range(10):\n    plt.matshow(digit_images.images[i])\n" ]
  }, {
    "cell_type" : "markdown",
    "metadata" : { },
    "source" : [ "## K means" ]
  }, {
    "cell_type" : "code",
    "execution_count" : 0,
    "outputs" : [ ],
    "metadata" : { },
    "source" : [ "from sklearn.cluster import KMeans\n\nnum_clusters = 10\nkmeans =  KMeans(n_clusters=num_clusters).fit(digit_images.data)\n\nfor i in range(num_clusters):\n    plt.matshow(kmeans.cluster_centers_[i].reshape(8,8))" ]
  }, {
    "cell_type" : "markdown",
    "metadata" : { },
    "source" : [ "# Accuracy matrix" ]
  }, {
    "cell_type" : "code",
    "execution_count" : 0,
    "outputs" : [ ],
    "metadata" : { },
    "source" : [ "import numpy as np\n\npredictions = kmeans.predict(digit_images.data)\n\n# Its not obvious which cluster represents which image \n# So I'm just going to have a 10x10 matrix with rows => n\nunique, counts = np.unique(predictions, return_counts=True)\nprint(dict(zip(unique, counts)))\n\naccuracy_matrix = np.zeros((10,10))\n\nfor i in range(predictions.size):\n    accuracy_matrix[digit_images.target[i]][predictions[i]] += 1\n\nfor i in range(10):\n    print(str(i) + \":\")\n    print(accuracy_matrix[i])" ]
  }, {
    "cell_type" : "markdown",
    "metadata" : { },
    "source" : [ "## Regression" ]
  }, {
    "cell_type" : "code",
    "execution_count" : 0,
    "outputs" : [ ],
    "metadata" : { },
    "source" : [ "from sklearn.linear_model import LogisticRegression\nfrom sklearn.metrics import accuracy_score\n\nlogistic_regression_model = LogisticRegression()\nlogistic_regression_model.fit(digit_images.data, digit_images.target)\n\nlr_predictions = logistic_regression_model.predict(digit_images.data)\n\naccuracy_score(digit_images.target, lr_predictions)" ]
  }, {
    "cell_type" : "code",
    "execution_count" : 0,
    "outputs" : [ ],
    "metadata" : { },
    "source" : [ "for i in range(10):\n    plt.matshow(logistic_regression_model.coef_[i].reshape(8,8))" ]
  }, {
    "cell_type" : "code",
    "execution_count" : 0,
    "outputs" : [ ],
    "metadata" : { },
    "source" : [ "lr_accuracy_matrix = np.zeros((10,10))\n\nfor i in range(predictions.size):\n    lr_accuracy_matrix[digit_images.target[i]][lr_predictions[i]] += 1\n\nfor i in range(10):\n    print(str(i) + \":\")\n    print(lr_accuracy_matrix[i])" ]
  }, {
    "cell_type" : "markdown",
    "metadata" : { },
    "source" : [ "Note: I've used all the data here for training for a toy solution which is a very bad practice, usually you want to split the data into training and test (and sometimes even validation set). " ]
  } ]
}